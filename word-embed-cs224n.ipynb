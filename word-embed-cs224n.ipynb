{
  "cells": [
    {
      "metadata": {
        "_uuid": "66493fb735dc8f03b215e99da6d5d5f1147b7579"
      },
      "cell_type": "markdown",
      "source": "# CS224N Assignment 1: Exploring Word Vectors (25 Points)\n\nWelcome to CS224n! \n\nBefore you start, make sure you read the README.txt in the same directory as this notebook. "
    },
    {
      "metadata": {
        "trusted": true,
        "_uuid": "1ac2ac226c63e6c6baebc6ec9ab3f74cc7a48c9b"
      },
      "cell_type": "code",
      "source": "# All Import Statements Defined Here\n# Note: Do not add to this list.\n# All the dependencies you need, can be installed by running .\n# ----------------\n\nimport sys\nassert sys.version_info[0]==3\nassert sys.version_info[1] >= 5\n\nfrom gensim.models import KeyedVectors\nfrom gensim.test.utils import datapath\nimport pprint\nimport matplotlib.pyplot as plt\nplt.rcParams['figure.figsize'] = [10, 5]\nimport nltk\nnltk.download('reuters')\nfrom nltk.corpus import reuters\nimport numpy as np\nimport random\nimport scipy as sp\nfrom sklearn.decomposition import TruncatedSVD\nfrom sklearn.decomposition import PCA\n\nSTART_TOKEN = '<START>'\nEND_TOKEN = '<END>'\n\nnp.random.seed(0)\nrandom.seed(0)\n# ----------------",
      "execution_count": null,
      "outputs": []
    },
    {
      "metadata": {
        "_uuid": "96fd866b2418887ea531588c7c5bf8e6a150216e"
      },
      "cell_type": "markdown",
      "source": "## Please Write Your SUNet ID Here: "
    },
    {
      "metadata": {
        "_uuid": "c9c114b9ca2edc2876645c8a52b2e8f6fa156516"
      },
      "cell_type": "markdown",
      "source": "## Word Vectors\n\nWord Vectors are often used as a fundamental component for downstream NLP tasks, e.g. question answering, text generation, translation, etc., so it is important to build some intuitions as to their strengths and weaknesses. Here, you will explore two types of word vectors: those derived from *co-occurrence matrices*, and those derived via *word2vec*. \n\n**Assignment Notes:** Please make sure to save the notebook as you go along. Submission Instructions are located at the bottom of the notebook.\n\n**Note on Terminology:** The terms \"word vectors\" and \"word embeddings\" are often used interchangeably. The term \"embedding\" refers to the fact that we are encoding aspects of a word's meaning in a lower dimensional space. As [Wikipedia](https://en.wikipedia.org/wiki/Word_embedding) states, \"*conceptually it involves a mathematical embedding from a space with one dimension per word to a continuous vector space with a much lower dimension*\"."
    },
    {
      "metadata": {
        "_uuid": "e2c7deccf8282d09f89517b46d360a6939b1d369"
      },
      "cell_type": "markdown",
      "source": "## Part 1: Count-Based Word Vectors (10 points)\n\nMost word vector models start from the following idea:\n\n*You shall know a word by the company it keeps ([Firth, J. R. 1957:11](https://en.wikipedia.org/wiki/John_Rupert_Firth))*\n\nMany word vector implementations are driven by the idea that similar words, i.e., (near) synonyms, will be used in similar contexts. As a result, similar words will often be spoken or written along with a shared subset of words, i.e., contexts. By examining these contexts, we can try to develop embeddings for our words. With this intuition in mind, many \"old school\" approaches to constructing word vectors relied on word counts. Here we elaborate upon one of those strategies, *co-occurrence matrices* (for more information, see [here](http://web.stanford.edu/class/cs124/lec/vectorsemantics.video.pdf) or [here](https://medium.com/data-science-group-iitr/word-embedding-2d05d270b285))."
    },
    {
      "metadata": {
        "_uuid": "54b38b35ba1da105269804a13f06e49b543663e6"
      },
      "cell_type": "markdown",
      "source": "### Co-Occurrence\n\nA co-occurrence matrix counts how often things co-occur in some environment. Given some word $w_i$ occurring in the document, we consider the *context window* surrounding $w_i$. Supposing our fixed window size is $n$, then this is the $n$ preceding and $n$ subsequent words in that document, i.e. words $w_{i-n} \\dots w_{i-1}$ and $w_{i+1} \\dots w_{i+n}$. We build a *co-occurrence matrix* $M$, which is a symmetric word-by-word matrix in which $M_{ij}$ is the number of times $w_j$ appears inside $w_i$'s window.\n\n**Example: Co-Occurrence with Fixed Window of n=1**:\n\nDocument 1: \"all that glitters is not gold\"\n\nDocument 2: \"all is well that ends well\"\n\n\n|     *    | START | all | that | glitters | is   | not  | gold  | well | ends | END |\n|----------|-------|-----|------|----------|------|------|-------|------|------|-----|\n| START    | 0     | 2   | 0    | 0        | 0    | 0    | 0     | 0    | 0    | 0   |\n| all      | 2     | 0   | 1    | 0        | 1    | 0    | 0     | 0    | 0    | 0   |\n| that     | 0     | 1   | 0    | 1        | 0    | 0    | 0     | 1    | 1    | 0   |\n| glitters | 0     | 0   | 1    | 0        | 1    | 0    | 0     | 0    | 0    | 0   |\n| is       | 0     | 1   | 0    | 1        | 0    | 1    | 0     | 1    | 0    | 0   |\n| not      | 0     | 0   | 0    | 0        | 1    | 0    | 1     | 0    | 0    | 0   |\n| gold     | 0     | 0   | 0    | 0        | 0    | 1    | 0     | 0    | 0    | 1   |\n| well     | 0     | 0   | 1    | 0        | 1    | 0    | 0     | 0    | 1    | 1   |\n| ends     | 0     | 0   | 1    | 0        | 0    | 0    | 0     | 1    | 0    | 0   |\n| END      | 0     | 0   | 0    | 0        | 0    | 0    | 1     | 1    | 0    | 0   |\n\n**Note:** In NLP, we often add START and END tokens to represent the beginning and end of sentences, paragraphs or documents. In thise case we imagine START and END tokens encapsulating each document, e.g., \"START All that glitters is not gold END\", and include these tokens in our co-occurrence counts.\n\nThe rows (or columns) of this matrix provide one type of word vectors (those based on word-word co-occurrence), but the vectors will be large in general (linear in the number of distinct words in a corpus). Thus, our next step is to run *dimensionality reduction*. In particular, we will run *SVD (Singular Value Decomposition)*, which is a kind of generalized *PCA (Principal Components Analysis)* to select the top $k$ principal components. Here's a visualization of dimensionality reduction with SVD. In this picture our co-occurrence matrix is $A$ with $n$ rows corresponding to $n$ words. We obtain a full matrix decomposition, with the singular values ordered in the diagonal $S$ matrix, and our new, shorter length-$k$ word vectors in $U_k$.\n\n![Picture of an SVD](imgs/svd.png \"SVD\")\n\nThis reduced-dimensionality co-occurrence representation preserves semantic relationships between words, e.g. *doctor* and *hospital* will be closer than *doctor* and *dog*. \n\n**Notes:** If you can barely remember what an eigenvalue is, here's [a slow, friendly introduction to SVD](https://davetang.org/file/Singular_Value_Decomposition_Tutorial.pdf). If you want to learn more thoroughly about PCA or SVD, feel free to check out lectures [7](https://web.stanford.edu/class/cs168/l/l7.pdf), [8](http://theory.stanford.edu/~tim/s15/l/l8.pdf), and [9](https://web.stanford.edu/class/cs168/l/l9.pdf) of CS168. These course notes provide a great high-level treatment of these general purpose algorithms. Though, for the purpose of this class, you only need to know how to extract the k-dimensional embeddings by utilizing pre-programmed implementations of these algorithms from the numpy, scipy, or sklearn python packages. In practice, it is challenging to apply full SVD to large corpora because of the memory needed to perform PCA or SVD. However, if you only want the top $k$ vector components for relatively small $k$ — known as *[Truncated SVD](https://en.wikipedia.org/wiki/Singular_value_decomposition#Truncated_SVD)* — then there are reasonably scalable techniques to compute those iteratively."
    },
    {
      "metadata": {
        "_uuid": "3737a9e523ed65e5a2f520df2079940e410c3555"
      },
      "cell_type": "markdown",
      "source": "### Plotting Co-Occurrence Word Embeddings\n\nHere, we will be using the Reuters (business and financial news) corpus. If you haven't run the import cell at the top of this page, please run it now (click it and press SHIFT-RETURN). The corpus consists of 10,788 news documents totaling 1.3 million words. These documents span 90 categories and are split into train and test. For more details, please see https://www.nltk.org/book/ch02.html. We provide a `read_corpus` function below that pulls out only articles from the \"crude\" (i.e. news articles about oil, gas, etc.) category. The function also adds START and END tokens to each of the documents, and lowercases words. You do **not** have perform any other kind of pre-processing."
    },
    {
      "metadata": {
        "trusted": true,
        "_uuid": "671bc9c15a642125d4198f93ad7ab66123ff84b3"
      },
      "cell_type": "code",
      "source": "def read_corpus(category=\"crude\"):\n    \"\"\" Read files from the specified Reuter's category.\n        Params:\n            category (string): category name\n        Return:\n            list of lists, with words from each of the processed files\n    \"\"\"\n    files = reuters.fileids(category)\n    return [[START_TOKEN] + [w.lower() for w in list(reuters.words(f))] + [END_TOKEN] for f in files]\n",
      "execution_count": null,
      "outputs": []
    },
    {
      "metadata": {
        "_uuid": "0e55ee1f6caa0361ed62855f12ce2eea917e032d"
      },
      "cell_type": "markdown",
      "source": "Let's have a look what these documents are like…."
    },
    {
      "metadata": {
        "scrolled": false,
        "trusted": true,
        "_uuid": "1c957bd0402aa42a09485b1394dcb3183a506555"
      },
      "cell_type": "code",
      "source": "reuters_corpus = read_corpus()\npprint.pprint(reuters_corpus[:3], compact=True, width=100)",
      "execution_count": null,
      "outputs": []
    },
    {
      "metadata": {
        "_uuid": "779a9a6cadc37a1e4e2ce0bc61e5901bc40428b9"
      },
      "cell_type": "markdown",
      "source": "### Question 1.1: Implement `distinct_words` [code] (2 points)\n\nWrite a method to work out the distinct words (word types) that occur in the corpus. You can do this with `for` loops, but it's more efficient to do it with Python list comprehensions. In particular, [this](https://coderwall.com/p/rcmaea/flatten-a-list-of-lists-in-one-line-in-python) may be useful to flatten a list of lists. If you're not familiar with Python list comprehensions in general, here's [more information](https://python-3-patterns-idioms-test.readthedocs.io/en/latest/Comprehensions.html).\n\nYou may find it useful to use [Python sets](https://www.w3schools.com/python/python_sets.asp) to remove duplicate words."
    },
    {
      "metadata": {
        "trusted": true,
        "_uuid": "76967776e071ddcdb135f48df311922d6be797d4"
      },
      "cell_type": "code",
      "source": "def distinct_words(corpus):\n    \"\"\" Determine a list of distinct words for the corpus.\n        Params:\n            corpus (list of list of strings): corpus of documents\n        Return:\n            corpus_words (list of strings): list of distinct words across the corpus, sorted (using python 'sorted' function)\n            num_corpus_words (integer): number of distinct words across the corpus\n    \"\"\"\n    corpus_words = []\n    num_corpus_words = -1\n    \n    # ------------------\n    # Write your implementation here.\n    corpus_words = sorted(list(set([y for x in corpus for y in x]))) \n    num_corpus_words = len(corpus_words)\n    # ------------------\n\n    return corpus_words, num_corpus_words",
      "execution_count": null,
      "outputs": []
    },
    {
      "metadata": {
        "trusted": true,
        "_uuid": "c920378caf6c4f8f3eea2feb53c930052058360b"
      },
      "cell_type": "code",
      "source": "# ---------------------\n# Run this sanity check\n# Note that this not an exhaustive check for correctness.\n# ---------------------\n\n# Define toy corpus\ntest_corpus = [\"START All that glitters isn't gold END\".split(\" \"), \"START All's well that ends well END\".split(\" \")]\ntest_corpus_words, num_corpus_words = distinct_words(test_corpus)\n\n# Correct answers\nans_test_corpus_words = sorted(list(set([\"START\", \"All\", \"ends\", \"that\", \"gold\", \"All's\", \"glitters\", \"isn't\", \"well\", \"END\"])))\nans_num_corpus_words = len(ans_test_corpus_words)\nprint(ans_test_corpus_words)\n# Test correct number of words\nassert(num_corpus_words == ans_num_corpus_words), \"Incorrect number of distinct words. Correct: {}. Yours: {}\".format(ans_num_corpus_words, num_corpus_words)\n\n# Test correct words\nassert (test_corpus_words == ans_test_corpus_words), \"Incorrect corpus_words.\\nCorrect: {}\\nYours:   {}\".format(str(ans_test_corpus_words), str(test_corpus_words))\n\n# Print Success\nprint (\"-\" * 80)\nprint(\"Passed All Tests!\")\nprint (\"-\" * 80)",
      "execution_count": null,
      "outputs": []
    },
    {
      "metadata": {
        "_uuid": "5848b0abe410c13d7ba27108d4bf5589f970418e"
      },
      "cell_type": "markdown",
      "source": "### Question 1.2: Implement `compute_co_occurrence_matrix` [code] (3 points)\n\nWrite a method that constructs a co-occurrence matrix for a certain window-size $n$ (with a default of 4), considering words $n$ before and $n$ after the word in the center of the window. Here, we start to use `numpy (np)` to represent vectors, matrices, and tensors. If you're not familiar with NumPy, there's a NumPy tutorial in the second half of this cs231n [Python NumPy tutorial](http://cs231n.github.io/python-numpy-tutorial/).\n"
    },
    {
      "metadata": {
        "trusted": true,
        "_uuid": "ee3f948b4f8c74d7f46fd53e312bcbf00e04b947"
      },
      "cell_type": "code",
      "source": "def compute_co_occurrence_matrix(corpus, window_size=4):\n    \"\"\" Compute co-occurrence matrix for the given corpus and window_size (default of 4).\n    \n        Note: Each word in a document should be at the center of a window. Words near edges will have a smaller\n              number of co-occurring words.\n              \n              For example, if we take the document \"START All that glitters is not gold END\" with window size of 4,\n              \"All\" will co-occur with \"START\", \"that\", \"glitters\", \"is\", and \"not\".\n    \n        Params:\n            corpus (list of list of strings): corpus of documents\n            window_size (int): size of context window\n        Return:\n            M (numpy matrix of shape (number of corpus words, number of corpus words)): \n                Co-occurence matrix of word counts. \n                The ordering of the words in the rows/columns should be the same as the ordering of the words given by the distinct_words function.\n            word2Ind (dict): dictionary that maps word to index (i.e. row/column number) for matrix M.\n    \"\"\"\n    words, num_words = distinct_words(corpus)\n    M = None\n    word2Ind = {}\n    # ------------------\n    # Write your implementation here.\n    M = np.zeros((num_words, num_words))\n    for i,word in enumerate(words):\n        word2Ind[word] = i\n    for key, value in word2Ind.items():\n        for i,sents in enumerate(corpus):\n            lookup_list = []\n            temp_arr = np.where(np.array(sents) == key)[0]\n            if len(temp_arr) != 0:\n                for word_idx in temp_arr:\n                    left_list = sents[:word_idx]\n                    right_list = sents[word_idx+1:]\n                    if len(left_list) < window_size:\n                        lookup_list += left_list\n                    else:\n                        lookup_list += left_list[-window_size:]\n                    if len(right_list) < window_size:\n                        lookup_list += right_list\n                    else:\n                        lookup_list += right_list[:window_size]\n                for val in lookup_list:\n                    M[value, word2Ind[val]] += 1\n    # ------------------\n    return M, word2Ind",
      "execution_count": null,
      "outputs": []
    },
    {
      "metadata": {
        "trusted": true,
        "_uuid": "731a416da39d512721a0b17a97d160f414df57fe"
      },
      "cell_type": "code",
      "source": "temp_list = np.array([\"-1\",\"0\",\"1\",\"2\",\"3\",\"4\",\"5\"])\n#len(temp_list[:np.where(temp_list == \"e\")[0][0]]), len(temp_list[np.where(temp_list == \"e\")[0][0]:])\ntemp_list[(np.where(temp_list == \"0\")[0][0]+1):][0:4], np.where(temp_list == \"0\")[0][0]",
      "execution_count": null,
      "outputs": []
    },
    {
      "metadata": {
        "trusted": true,
        "_uuid": "93db4328a524a95c653c5032b79977f8e92d6227",
        "scrolled": false
      },
      "cell_type": "code",
      "source": "# ---------------------\n# Run this sanity check\n# Note that this is not an exhaustive check for correctness.\n# ---------------------\n\n# Define toy corpus and get student's co-occurrence matrix\ntest_corpus = [\"START All that glitters isn't gold END\".split(\" \"), \"START All's well that ends well END\".split(\" \")]\nM_test, word2Ind_test = compute_co_occurrence_matrix(test_corpus, window_size=1)\n\n# Correct M and word2Ind\nM_test_ans = np.array( \n    [[0., 0., 0., 1., 0., 0., 0., 0., 1., 0.,],\n     [0., 0., 0., 1., 0., 0., 0., 0., 0., 1.,],\n     [0., 0., 0., 0., 0., 0., 1., 0., 0., 1.,],\n     [1., 1., 0., 0., 0., 0., 0., 0., 0., 0.,],\n     [0., 0., 0., 0., 0., 0., 0., 0., 1., 1.,],\n     [0., 0., 0., 0., 0., 0., 0., 1., 1., 0.,],\n     [0., 0., 1., 0., 0., 0., 0., 1., 0., 0.,],\n     [0., 0., 0., 0., 0., 1., 1., 0., 0., 0.,],\n     [1., 0., 0., 0., 1., 1., 0., 0., 0., 1.,],\n     [0., 1., 1., 0., 1., 0., 0., 0., 1., 0.,]]\n)\nword2Ind_ans = {'All': 0, \"All's\": 1, 'END': 2, 'START': 3, 'ends': 4, 'glitters': 5, 'gold': 6, \"isn't\": 7, 'that': 8, 'well': 9}\n\n# Test correct word2Ind\nassert (word2Ind_ans == word2Ind_test), \"Your word2Ind is incorrect:\\nCorrect: {}\\nYours: {}\".format(word2Ind_ans, word2Ind_test)\n\n# Test correct M shape\nassert (M_test.shape == M_test_ans.shape), \"M matrix has incorrect shape.\\nCorrect: {}\\nYours: {}\".format(M_test.shape, M_test_ans.shape)\n\n# Test correct M values\nfor w1 in word2Ind_ans.keys():\n    idx1 = word2Ind_ans[w1]\n    for w2 in word2Ind_ans.keys():\n        idx2 = word2Ind_ans[w2]\n        student = M_test[idx1, idx2]\n        correct = M_test_ans[idx1, idx2]\n        if student != correct:\n            print(\"Correct M:\")\n            print(M_test_ans)\n            print(\"Your M: \")\n            print(M_test)\n            raise AssertionError(\"Incorrect count at index ({}, {})=({}, {}) in matrix M. Yours has {} but should have {}.\".format(idx1, idx2, w1, w2, student, correct))\n\n# Print Success\nprint (\"-\" * 80)\nprint(\"Passed All Tests!\")\nprint (\"-\" * 80)",
      "execution_count": null,
      "outputs": []
    },
    {
      "metadata": {
        "_uuid": "642f1d6e616306ed1db271ed312bbb0e63ef56f1"
      },
      "cell_type": "markdown",
      "source": "### Question 1.3: Implement `reduce_to_k_dim` [code] (1 point)\n\nConstruct a method that performs dimensionality reduction on the matrix to produce k-dimensional embeddings. Use SVD to take the top k components and produce a new matrix of k-dimensional embeddings. \n\n**Note:** All of numpy, scipy, and scikit-learn (`sklearn`) provide *some* implementation of SVD, but only scipy and sklearn provide an implementation of Truncated SVD, and only sklearn provides an efficient randomized algorithm for calculating large-scale Truncated SVD. So please use [sklearn.decomposition.TruncatedSVD](https://scikit-learn.org/stable/modules/generated/sklearn.decomposition.TruncatedSVD.html)."
    },
    {
      "metadata": {
        "trusted": true,
        "_uuid": "ada7acaa7ea21df76652412b7af85e8e007a4771"
      },
      "cell_type": "code",
      "source": "def reduce_to_k_dim(M, k=2):\n    \"\"\" Reduce a co-occurence count matrix of dimensionality (num_corpus_words, num_corpus_words)\n        to a matrix of dimensionality (num_corpus_words, k) using the following SVD function from Scikit-Learn:\n            - http://scikit-learn.org/stable/modules/generated/sklearn.decomposition.TruncatedSVD.html\n    \n        Params:\n            M (numpy matrix of shape (number of corpus words, number of corpus words)): co-occurence matrix of word counts\n            k (int): embedding size of each word after dimension reduction\n        Return:\n            M_reduced (numpy matrix of shape (number of corpus words, k)): matrix of k-dimensioal word embeddings.\n                    In terms of the SVD from math class, this actually returns U * S\n    \"\"\"    \n    n_iters = 10     # Use this parameter in your call to `TruncatedSVD`\n    M_reduced = None\n    print(\"Running Truncated SVD over %i words...\" % (M.shape[0]))\n    svd = TruncatedSVD(n_components=k, n_iter=7, random_state=42)\n    svd.fit(M)\n    M_reduced = svd.transform(M)\n    print(\"Done.\")\n    return M_reduced",
      "execution_count": null,
      "outputs": []
    },
    {
      "metadata": {
        "trusted": true,
        "_uuid": "03c27338837c30829d90965a37fef9f235c27195"
      },
      "cell_type": "code",
      "source": "# ---------------------\n# Run this sanity check\n# Note that this not an exhaustive check for correctness \n# In fact we only check that your M_reduced has the right dimensions.\n# ---------------------\n\n# Define toy corpus and run student code\ntest_corpus = [\"START All that glitters isn't gold END\".split(\" \"), \"START All's well that ends well END\".split(\" \")]\nM_test, word2Ind_test = compute_co_occurrence_matrix(test_corpus, window_size=1)\nM_test_reduced = reduce_to_k_dim(M_test, k=2)\n\n# Test proper dimensions\nassert (M_test_reduced.shape[0] == 10), \"M_reduced has {} rows; should have {}\".format(M_test_reduced.shape[0], 10)\nassert (M_test_reduced.shape[1] == 2), \"M_reduced has {} columns; should have {}\".format(M_test_reduced.shape[1], 2)\n\n# Print Success\nprint (\"-\" * 80)\nprint(\"Passed All Tests!\")\nprint (\"-\" * 80)",
      "execution_count": null,
      "outputs": []
    },
    {
      "metadata": {
        "_uuid": "b0b1d69918e1101ca3a4bb1060728a0068b9d6c1"
      },
      "cell_type": "markdown",
      "source": "### Question 1.4: Implement `plot_embeddings` [code] (1 point)\n\nHere you will write a function to plot a set of 2D vectors in 2D space. For graphs, we will use Matplotlib (`plt`).\n\nFor this example, you may find it useful to adapt [this code](https://www.pythonmembers.club/2018/05/08/matplotlib-scatter-plot-annotate-set-text-at-label-each-point/). In the future, a good way to make a plot is to look at [the Matplotlib gallery](https://matplotlib.org/gallery/index.html), find a plot that looks somewhat like what you want, and adapt the code they give."
    },
    {
      "metadata": {
        "trusted": true,
        "_uuid": "84e19b211da2de7cd75050e49be4a1e868160761"
      },
      "cell_type": "code",
      "source": "def plot_embeddings(M_reduced, word2Ind, words):\n    \"\"\" Plot in a scatterplot the embeddings of the words specified in the list \"words\".\n        NOTE: do not plot all the words listed in M_reduced / word2Ind.\n        Include a label next to each point.\n        \n        Params:\n            M_reduced (numpy matrix of shape (number of unique words in the corpus , k)): matrix of k-dimensioal word embeddings\n            word2Ind (dict): dictionary that maps word to indices for matrix M\n            words (list of strings): words whose embeddings we want to visualize\n    \"\"\"\n\n    # ------------------\n    # Write your implementation here.\n    for i,word in enumerate(words):\n        x = M_reduced[i,0]\n        y = M_reduced[i,1]\n        plt.scatter(x, y, marker='x', color='red')\n        plt.text(x, y, word, fontsize=9)\n    plt.show()\n\n    # ------------------",
      "execution_count": null,
      "outputs": []
    },
    {
      "metadata": {
        "trusted": true,
        "_uuid": "fbedb731bf927d5e9a94934c212849c0d50e8b92"
      },
      "cell_type": "code",
      "source": "# ---------------------\n# Run this sanity check\n# Note that this not an exhaustive check for correctness.\n# The plot produced should look like the \"test solution plot\" depicted below. \n# ---------------------\n\nprint (\"-\" * 80)\nprint (\"Outputted Plot:\")\n\nM_reduced_plot_test = np.array([[1, 1], [-1, -1], [1, -1], [-1, 1], [0, 0]])\nword2Ind_plot_test = {'test1': 0, 'test2': 1, 'test3': 2, 'test4': 3, 'test5': 4}\nwords = ['test1', 'test2', 'test3', 'test4', 'test5']\nplot_embeddings(M_reduced_plot_test, word2Ind_plot_test, words)\n\nprint (\"-\" * 80)",
      "execution_count": null,
      "outputs": []
    },
    {
      "metadata": {
        "_uuid": "841a44f42370fe1084c85267fd6d0319ea7600f9"
      },
      "cell_type": "markdown",
      "source": "<font color=red>**Test Plot Solution**</font>\n<br>\n<img src=\"imgs/test_plot.png\" width=40% style=\"float: left;\"> </img>\n"
    },
    {
      "metadata": {
        "_uuid": "1f8f1b8ab96fc857d24e7d6507fa6d3d27f97d35"
      },
      "cell_type": "markdown",
      "source": "### Question 1.5: Co-Occurrence Plot Analysis [written] (3 points)\n\nNow we will put together all the parts you have written! We will compute the co-occurrence matrix with fixed window of 4, over the Reuters \"crude\" corpus. Then we will use TruncatedSVD to compute 2-dimensional embeddings of each word. TruncatedSVD returns U\\*S, so we normalize the returned vectors, so that all the vectors will appear around the unit circle (therefore closeness is directional closeness). **Note**: The line of code below that does the normalizing uses the NumPy concept of *broadcasting*. If you don't know about broadcasting, check out\n[Computation on Arrays: Broadcasting by Jake VanderPlas](https://jakevdp.github.io/PythonDataScienceHandbook/02.05-computation-on-arrays-broadcasting.html).\n\nRun the below cell to produce the plot. It'll probably take a few seconds to run. What clusters together in 2-dimensional embedding space? What doesn't cluster together that you might think should have?  **Note:** \"bpd\" stands for \"barrels per day\" and is a commonly used abbreviation in crude oil topic articles."
    },
    {
      "metadata": {
        "trusted": true,
        "_uuid": "319a213007a8ebe1598db09bdae55d97e800f293"
      },
      "cell_type": "code",
      "source": "# -----------------------------\n# Run This Cell to Produce Your Plot\n# ------------------------------\nreuters_corpus = read_corpus()\nM_co_occurrence, word2Ind_co_occurrence = compute_co_occurrence_matrix(reuters_corpus)\nM_reduced_co_occurrence = reduce_to_k_dim(M_co_occurrence, k=2)\n\n# Rescale (normalize) the rows to make them each of unit-length\nM_lengths = np.linalg.norm(M_reduced_co_occurrence, axis=1)\nM_normalized = M_reduced_co_occurrence / M_lengths[:, np.newaxis] # broadcasting\n\nwords = ['barrels', 'bpd', 'ecuador', 'energy', 'industry', 'kuwait', 'oil', 'output', 'petroleum', 'venezuela']\nplot_embeddings(M_normalized, word2Ind_co_occurrence, words)",
      "execution_count": null,
      "outputs": []
    },
    {
      "metadata": {
        "_uuid": "85b78e78c32b230bbe1a353f8133970f9ebd49e6"
      },
      "cell_type": "markdown",
      "source": "#### <font color=\"red\">Write your answer here.</font>\n"
    },
    {
      "metadata": {
        "_uuid": "41bfc91583c8e132ab1f83ff1590f2a6200572b6"
      },
      "cell_type": "markdown",
      "source": "## Part 2: Prediction-Based Word Vectors (15 points)\n\nAs discussed in class, more recently prediction-based word vectors have come into fashion, e.g. word2vec. Here, we shall explore the embeddings produced by word2vec. Please revisit the class notes and lecture slides for more details on the word2vec algorithm. If you're feeling adventurous, challenge yourself and try reading the [original paper](https://papers.nips.cc/paper/5021-distributed-representations-of-words-and-phrases-and-their-compositionality.pdf).\n\nThen run the following cells to load the word2vec vectors into memory. **Note**: This might take several minutes."
    },
    {
      "metadata": {
        "trusted": true,
        "_uuid": "d9e8357e3bd96f3bcef12575fe3977ffdd75fb37"
      },
      "cell_type": "code",
      "source": "def load_word2vec():\n    \"\"\" Load Word2Vec Vectors\n        Return:\n            wv_from_bin: All 3 million embeddings, each lengh 300\n    \"\"\"\n    import gensim.downloader as api\n    wv_from_bin = api.load(\"word2vec-google-news-300\")\n    vocab = list(wv_from_bin.vocab.keys())\n    print(\"Loaded vocab size %i\" % len(vocab))\n    return wv_from_bin",
      "execution_count": null,
      "outputs": []
    },
    {
      "metadata": {
        "trusted": true,
        "_uuid": "b78ab904b567b38f7433e0a5ca367875f697d1c9"
      },
      "cell_type": "code",
      "source": "# -----------------------------------\n# Run Cell to Load Word Vectors\n# Note: This may take several minutes\n# -----------------------------------\nwv_from_bin = load_word2vec()",
      "execution_count": null,
      "outputs": []
    },
    {
      "metadata": {
        "_uuid": "c3c8fa7eed8e23523b95c34b80f43226f7f50109"
      },
      "cell_type": "markdown",
      "source": "**Note: If you are receiving out of memory issues on your local machine, try closing other applications to free more memory on your device. You may want to try restarting your machine so that you can free up extra memory. Then immediately run the jupyter notebook and see if you can load the word vectors properly. If you still have problems with loading the embeddings onto your local machine after this, please follow the Piazza instructions, as how to run remotely on Stanford Farmshare machines.**"
    },
    {
      "metadata": {
        "_uuid": "118c572dbf58bd0141bbdb8c2f7eb12650a03bbd"
      },
      "cell_type": "markdown",
      "source": "### Reducing dimensionality of Word2Vec Word Embeddings\nLet's directly compare the word2vec embeddings to those of the co-occurrence matrix. Run the following cells to:\n\n1. Put the 3 million word2vec vectors into a matrix M\n2. Run reduce_to_k_dim (your Truncated SVD function) to reduce the vectors from 300-dimensional to 2-dimensional."
    },
    {
      "metadata": {
        "trusted": false,
        "_uuid": "2ff39191d29bca482ef8b21df8b1ab6d9e3ac4af"
      },
      "cell_type": "code",
      "source": "def get_matrix_of_vectors(wv_from_bin, required_words=['barrels', 'bpd', 'ecuador', 'energy', 'industry', 'kuwait', 'oil', 'output', 'petroleum', 'venezuela']):\n    \"\"\" Put the word2vec vectors into a matrix M.\n        Param:\n            wv_from_bin: KeyedVectors object; the 3 million word2vec vectors loaded from file\n        Return:\n            M: numpy matrix shape (num words, 300) containing the vectors\n            word2Ind: dictionary mapping each word to its row number in M\n    \"\"\"\n    import random\n    words = list(wv_from_bin.vocab.keys())\n    print(\"Shuffling words ...\")\n    random.shuffle(words)\n    words = words[:10000]\n    print(\"Putting %i words into word2Ind and matrix M...\" % len(words))\n    word2Ind = {}\n    M = []\n    curInd = 0\n    for w in words:\n        try:\n            M.append(wv_from_bin.word_vec(w))\n            word2Ind[w] = curInd\n            curInd += 1\n        except KeyError:\n            continue\n    for w in required_words:\n        try:\n            M.append(wv_from_bin.word_vec(w))\n            word2Ind[w] = curInd\n            curInd += 1\n        except KeyError:\n            continue\n    M = np.stack(M)\n    print(\"Done.\")\n    return M, word2Ind",
      "execution_count": null,
      "outputs": []
    },
    {
      "metadata": {
        "trusted": false,
        "_uuid": "06f352120cef275f2ebed76357efa96867110cb4"
      },
      "cell_type": "code",
      "source": "# -----------------------------------------------------------------\n# Run Cell to Reduce 300-Dimensinal Word Embeddings to k Dimensions\n# Note: This may take several minutes\n# -----------------------------------------------------------------\nM, word2Ind = get_matrix_of_vectors(wv_from_bin)\nM_reduced = reduce_to_k_dim(M, k=2)",
      "execution_count": null,
      "outputs": []
    },
    {
      "metadata": {
        "_uuid": "b6e8495c9f7b47d07625f544887ac395819bdd92"
      },
      "cell_type": "markdown",
      "source": "### Question 2.1: Word2Vec Plot Analysis [written] (4 points)\n\nRun the cell below to plot the 2D word2vec embeddings for `['barrels', 'bpd', 'ecuador', 'energy', 'industry', 'kuwait', 'oil', 'output', 'petroleum', 'venezuela']`.\n\nWhat clusters together in 2-dimensional embedding space? What doesn't cluster together that you might think should have? How is the plot different from the one generated earlier from the co-occurrence matrix?"
    },
    {
      "metadata": {
        "trusted": true,
        "_uuid": "472df1d2b445568a9118d34f600fabefc9ecad99"
      },
      "cell_type": "code",
      "source": "words = ['barrels', 'bpd', 'ecuador', 'energy', 'industry', 'kuwait', 'oil', 'output', 'petroleum', 'venezuela']\nplot_embeddings(M_reduced, word2Ind, words)",
      "execution_count": null,
      "outputs": []
    },
    {
      "metadata": {
        "_uuid": "842a98b3ac6d69c4b1f7823f3f0a57e28483583c"
      },
      "cell_type": "markdown",
      "source": "#### <font color=\"red\">Write your answer here.</font>"
    },
    {
      "metadata": {
        "_uuid": "7333e8d45bf5ed9d4bedd096713726309aaab188"
      },
      "cell_type": "markdown",
      "source": "### Cosine Similarity\nNow that we have word vectors, we need a way to quantify the similarity between individual words, according to these vectors. One such metric is cosine-similarity. We will be using this to find words that are \"close\" and \"far\" from one another.\n\nWe can think of n-dimensional vectors as points in n-dimensional space. If we take this perspective L1 and L2 Distances help quantify the amount of space \"we must travel\" to get between these two points. Another approach is to examine the angle between two vectors. From trigonometry we know that:\n\n<img src=\"imgs/inner_product.png\" width=20% style=\"float: center;\"></img>\n\nInstead of computing the actual angle, we can leave the similarity in terms of $similarity = cos(\\Theta)$. Formally the [Cosine Similarity](https://en.wikipedia.org/wiki/Cosine_similarity) $s$ between two vectors $p$ and $q$ is defined as:\n\n$$s = \\frac{p \\cdot q}{||p|| ||q||}, \\textrm{ where } s \\in [-1, 1] $$ "
    },
    {
      "metadata": {
        "_uuid": "b0745c7707d755ae86cd647ac478bbebbea24f09"
      },
      "cell_type": "markdown",
      "source": "### Question 2.2: Polysemous Words (2 points) [code + written] \nFind a [polysemous](https://en.wikipedia.org/wiki/Polysemy) word (for example, \"leaves\" or \"scoop\") such that the top-10 most similar words (according to cosine similarity) contains related words from *both* meanings. For example, \"leaves\" has both \"vanishes\" and \"stalks\" in the top 10, and \"scoop\" has both \"handed_waffle_cone\" and \"lowdown\". You will probably need to try several polysemous words before you find one. Please state the polysemous word you discover and the multiple meanings that occur in the top 10. Why do you think many of the polysemous words you tried didn't work?\n\n**Note**: You should use the `wv_from_bin.most_similar(word)` function to get the top 10 similar words. This function ranks all other words in the vocabulary with respect to their cosine similarity to the given word. For further assistance please check the __[GenSim documentation](https://radimrehurek.com/gensim/models/keyedvectors.html#gensim.models.keyedvectors.FastTextKeyedVectors.most_similar)__."
    },
    {
      "metadata": {
        "trusted": false,
        "_uuid": "c9e58fac090f688dd87b4e9dbc8a7482c9c82b87"
      },
      "cell_type": "code",
      "source": "# ------------------\n# Write your polysemous word exploration code here.\n\nwv_from_bin.most_similar(\"\")\n\n# ------------------",
      "execution_count": null,
      "outputs": []
    },
    {
      "metadata": {
        "_uuid": "e5458cfd8a1f6b977a49d02ea69e378791ca0c5c"
      },
      "cell_type": "markdown",
      "source": "#### <font color=\"red\">Write your answer here.</font>"
    },
    {
      "metadata": {
        "_uuid": "b64b8081a4bff44a44a3156c36490474cf74bac4"
      },
      "cell_type": "markdown",
      "source": "### Question 2.3: Synonyms & Antonyms (2 points) [code + written] \n\nWhen considering Cosine Similarity, it's often more convenient to think of Cosine Distance, which is simply 1 - Cosine Similarity.\n\nFind three words (w1,w2,w3) where w1 and w2 are synonyms and w1 and w3 are antonyms, but Cosine Distance(w1,w3) < Cosine Distance(w1,w2). For example, w1=\"happy\" is closer to w3=\"sad\" than to w2=\"cheerful\". \n\nOnce you have found your example, please give a possible explanation for why this counter-intuitive result may have happened.\n\nYou should use the the `wv_from_bin.distance(w1, w2)` function here in order to compute the cosine distance between two words. Please see the __[GenSim documentation](https://radimrehurek.com/gensim/models/keyedvectors.html#gensim.models.keyedvectors.FastTextKeyedVectors.distance)__ for further assistance."
    },
    {
      "metadata": {
        "trusted": false,
        "_uuid": "e0dbd756ae316166889c8452b8f4bc6eb429b0a4"
      },
      "cell_type": "code",
      "source": "# ------------------\n# Write your synonym & antonym exploration code here.\n\nw1 = \"\"\nw2 = \"\"\nw3 = \"\"\nw1_w2_dist = wv_from_bin.distance(w1, w2)\nw1_w3_dist = wv_from_bin.distance(w1, w3)\n\nprint(\"Synonyms {}, {} have cosine distance: {}\".format(w1, w2, w1_w2_dist))\nprint(\"Antonyms {}, {} have cosine distance: {}\".format(w1, w3, w1_w3_dist))\n\n# ------------------",
      "execution_count": null,
      "outputs": []
    },
    {
      "metadata": {
        "_uuid": "d806e07158c3de81a538c33492062828c3da285c"
      },
      "cell_type": "markdown",
      "source": "#### <font color=\"red\">Write your answer here.</font>"
    },
    {
      "metadata": {
        "_uuid": "5c41b370349d2f77b4908b486be44794c1949bc3"
      },
      "cell_type": "markdown",
      "source": "### Solving Analogies with Word Vectors\nWord2Vec vectors have been shown to *sometimes* exhibit the ability to solve analogies. \n\nAs an example, for the analogy \"man : king :: woman : x\", what is x?\n\nIn the cell below, we show you how to use word vectors to find x. The `most_similar` function finds words that are most similar to the words in the `positive` list and most dissimilar from the words in the `negative` list. The answer to the analogy will be the word ranked most similar (largest numerical value).\n\n**Note:** Further Documentation on the `most_similar` function can be found within the __[GenSim documentation](https://radimrehurek.com/gensim/models/keyedvectors.html#gensim.models.keyedvectors.FastTextKeyedVectors.most_similar)__."
    },
    {
      "metadata": {
        "trusted": false,
        "_uuid": "19a5ca4fd4756653a3e8a9108b4baaef7d30d17a"
      },
      "cell_type": "code",
      "source": "# Run this cell to answer the analogy -- man : king :: woman : x\npprint.pprint(wv_from_bin.most_similar(positive=['woman', 'king'], negative=['man']))",
      "execution_count": null,
      "outputs": []
    },
    {
      "metadata": {
        "_uuid": "8a37267c15132043e0a2edff446e13adec0144de"
      },
      "cell_type": "markdown",
      "source": "### Question 2.4: Finding Analogies [code + written]  (2 Points)\nFind an example of analogy that holds according to these vectors (i.e. the intended word is ranked top). In your solution please state the full analogy in the form x:y :: a:b. If you believe the analogy is complicated, explain why the analogy holds in one or two sentences.\n\n**Note**: You may have to try many analogies to find one that works!"
    },
    {
      "metadata": {
        "trusted": false,
        "_uuid": "75fda1ebe5be8e5d888e47a0eb3c3fc7ce5f230b"
      },
      "cell_type": "code",
      "source": "# ------------------\n# Write your analogy exploration code here.\n\npprint.pprint(wv_from_bin.most_similar(positive=[], negative=[]))\n\n# ------------------",
      "execution_count": null,
      "outputs": []
    },
    {
      "metadata": {
        "_uuid": "e14ae8f74e8816287ed4023b76dba939a49a3376"
      },
      "cell_type": "markdown",
      "source": "#### <font color=\"red\">Write your answer here.</font>"
    },
    {
      "metadata": {
        "_uuid": "0c337be88a9e0ed84310d755f57d33286b1c5405"
      },
      "cell_type": "markdown",
      "source": "### Question 2.5: Incorrect Analogy [code + written] (1 point)\nFind an example of analogy that does *not* hold according to these vectors. In your solution, state the intended analogy in the form x:y :: a:b, and state the (incorrect) value of b according to the word vectors."
    },
    {
      "metadata": {
        "trusted": false,
        "_uuid": "670b87b5fe6d406be60ad9b416522da9d344c309"
      },
      "cell_type": "code",
      "source": "# ------------------\n# Write your incorrect analogy exploration code here.\n\npprint.pprint(wv_from_bin.most_similar(positive=[], negative=[]))\n\n# ------------------",
      "execution_count": null,
      "outputs": []
    },
    {
      "metadata": {
        "_uuid": "cb53e00ce83b00951d2a6936023d697b35832e1e"
      },
      "cell_type": "markdown",
      "source": "#### <font color=\"red\">Write your answer here.</font>"
    },
    {
      "metadata": {
        "_uuid": "94472db538f64e844d24862c699bcdecea6de5ce"
      },
      "cell_type": "markdown",
      "source": "### Question 2.6: Guided Analysis of Bias in Word Vectors [written] (1 point)\n\nIt's important to be cognizant of the biases (gender, race, sexual orientation etc.) implicit to our word embeddings.\n\nRun the cell below, to examine (a) which terms are most similar to \"woman\" and \"boss\" and most dissimilar to \"man\", and (b) which terms are most similar to \"man\" and \"boss\" and most dissimilar to \"woman\". What do you find in the top 10?"
    },
    {
      "metadata": {
        "trusted": false,
        "_uuid": "6b1a76d97718df5808859d0c1f8b00a138bef19a"
      },
      "cell_type": "code",
      "source": "# Run this cell\n# Here `positive` indicates the list of words to be similar to and `negative` indicates the list of words to be\n# most dissimilar from.\npprint.pprint(wv_from_bin.most_similar(positive=['woman', 'boss'], negative=['man']))\nprint()\npprint.pprint(wv_from_bin.most_similar(positive=['man', 'boss'], negative=['woman']))",
      "execution_count": null,
      "outputs": []
    },
    {
      "metadata": {
        "_uuid": "3f8ebb9d8d13a832dd64d0b0f773b9a79a3bf5ac"
      },
      "cell_type": "markdown",
      "source": "#### <font color=\"red\">Write your answer here.</font>"
    },
    {
      "metadata": {
        "_uuid": "4eac54ecb1b9506676ec1ced49af4a07890c0eb4"
      },
      "cell_type": "markdown",
      "source": "### Question 2.7: Independent Analysis of Bias in Word Vectors [code + written]  (2 points)\n\nUse the `most_similar` function to find another case where some bias is exhibited by the vectors. Please briefly explain the example of bias that you discover."
    },
    {
      "metadata": {
        "trusted": false,
        "_uuid": "7a2a5badc49007f004269f33681ae572f12db211"
      },
      "cell_type": "code",
      "source": "# ------------------\n# Write your bias exploration code here.\n\npprint.pprint(wv_from_bin.most_similar(positive=[], negative=[]))\nprint()\npprint.pprint(wv_from_bin.most_similar(positive=[,], negative=[]))\n\n# ------------------",
      "execution_count": null,
      "outputs": []
    },
    {
      "metadata": {
        "_uuid": "35971afb15962bb65af708052dd78d9275991496"
      },
      "cell_type": "markdown",
      "source": "#### <font color=\"red\">Write your answer here.</font>"
    },
    {
      "metadata": {
        "_uuid": "3a663fb5b71be2f83968e7fb5728bf9c913d8c53"
      },
      "cell_type": "markdown",
      "source": "### Question 2.8: Thinking About Bias [written] (1 point)\n\nWhat might be the cause of these biases in the word vectors?"
    },
    {
      "metadata": {
        "_uuid": "d726af65988f4ef1c74a58ea264fda677e4746bb"
      },
      "cell_type": "markdown",
      "source": "#### <font color=\"red\">Write your answer here.</font>"
    },
    {
      "metadata": {
        "_uuid": "2ca5109f3269a7b2aa8060df39beb065840987f8"
      },
      "cell_type": "markdown",
      "source": "# <font color=\"blue\"> Submission Instructions</font>\n\n1. Click the Save button at the top of the Jupyter Notebook.\n2. Please make sure to have entered your SUNET ID above.\n3. Select Cell -> All Output -> Clear. This will clear all the outputs from all cells (but will keep the content of ll cells). \n4. Select Cell -> Run All. This will run all the cells in order, and will take several minutes.\n5. Once you've rerun everything, select File -> Download as -> PDF via LaTeX\n6. Look at the PDF file and make sure all your solutions are there, displayed correctly. The PDF is the only thing your graders will see!\n7. Submit your PDF on Gradescope."
    }
  ],
  "metadata": {
    "anaconda-cloud": {},
    "kernelspec": {
      "display_name": "Python 3",
      "language": "python",
      "name": "python3"
    },
    "language_info": {
      "name": "python",
      "version": "3.6.6",
      "mimetype": "text/x-python",
      "codemirror_mode": {
        "name": "ipython",
        "version": 3
      },
      "pygments_lexer": "ipython3",
      "nbconvert_exporter": "python",
      "file_extension": ".py"
    }
  },
  "nbformat": 4,
  "nbformat_minor": 1
}